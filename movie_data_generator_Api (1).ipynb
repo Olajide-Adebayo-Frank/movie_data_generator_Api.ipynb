{
  "metadata": {
    "kernelspec": {
      "name": "python",
      "display_name": "Python (Pyodide)",
      "language": "python"
    },
    "language_info": {
      "codemirror_mode": {
        "name": "python",
        "version": 3
      },
      "file_extension": ".py",
      "mimetype": "text/x-python",
      "name": "python",
      "nbconvert_exporter": "python",
      "pygments_lexer": "ipython3",
      "version": "3.8"
    }
  },
  "nbformat_minor": 5,
  "nbformat": 4,
  "cells": [
    {
      "id": "4ad5a066-e500-4b7d-8f03-0088964534c7",
      "cell_type": "markdown",
      "source": "Name: Olajide Adebayo Frank\nTitle: Movie Information Fetcher and Storage Using OMDb API with Exception Handling\nDate: 27-06-2024",
      "metadata": {}
    },
    {
      "id": "f283c0ef-5de3-489d-a2cb-91020d73c5b7",
      "cell_type": "code",
      "source": "# For handling HTTP requests\nfrom json import JSONDecodeError\n\nimport requests\n# For working with JSON data\nimport json\n# User inputs the Movie Title\nmovie_title = input(\"Please enter movie title\")\n# Constructing the API URL with the keys included\napi_key = \"4bbf40d\"\nurl = f'http://www.omdbapi.com/?t={movie_title}&apikey={api_key}&plot=short&r=json'\n# Sending the request ti API and storing the response\nresponse = requests.get(url)\n\n# Implementing Exceptional Handling\ntry:\n    response = requests.get(url)\n    response.raise_for_status() # Raise an exception for HTTP errors\n    movie_data = response.json()\n    if \"Errors\" in movie_data:\n        raise ValueError(\"No data found for the provided movie title.\")\nexcept requests.exceptions.HTTPError as http_err:\n    print(f\"HTTP error occurred: {http_err}\")\nexcept requests.exceptions.ConnectionError as conn_err:\n    print(f\"Connection Error occurred: {conn_err}\")\nexcept requests.exceptions.Timeout as timeout_err:\n    print(f\" Timeout Error occurred: {timeout_err}\")\nexcept requests.exceptions.RequestException as req_err:\n    print(f\"An error just occurred: {req_err}\")\nexcept ValueError as ve:\n    print(ve)\nelse:\n    print(\"Movie data retrieved successfully!\")\n\n#Extracting Movie Information\nif \"movie_data\" in locals():  # Check if movie data exist\n    # Extract the title, years and director from the movie data\n    title = movie_data.get('Title', 'N/A')\n    year = movie_data.get('Year', 'N/A')\n    director = movie_data.get('Director', 'N/A')\n    # Store Extracted information in Dictionary\n    movie_info = {\n        'Title': title,\n        'Year': year,\n        'Director': director\n    }\n\n    # Display the Extracted Movie\n    print(movie_info)\n\n# Store Data in a file\nwith open('movie_info.txt', 'w') as file:\n    # Write the movie information to the text file in Json format\n    file.write(json.dumps(movie_info, indent=4))\n\n# Read and display stored data\ndef display_stored_movie_info():\n    try:\n        # Open and read the stored movie information from the file\n        with open(\"movie_info.txt\", \"r\") as file:\n            stored_data = json.load(file)\n            print(\"Stored Movie Information:\")\n            # Print the stored data in a readable JSON format\n            print(json.dumps(stored_data, indent=4))\n    except FileNotFoundError:\n        print(\"File not in existence!\")\n    except json.JSONDecodeError:\n        print(\"Error decoding json data.\")\n    except exception as e:\n        print(f\"An unxpected error occurred: {e}\")\n\n# Call the function to display the stored movie information\ndisplay_stored_movie_info()",
      "metadata": {
        "trusted": true
      },
      "outputs": [],
      "execution_count": null
    }
  ]
}